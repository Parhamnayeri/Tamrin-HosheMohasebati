{
 "cells": [
  {
   "cell_type": "markdown",
   "metadata": {},
   "source": [
    "# ChessBoard Pattern (256×256)pixels\n",
    "\n",
    "**Parham Nayeri**\n",
    "\n",
    "**APADANA**\n",
    "    \n",
    "**Ostad Zare**"
   ]
  },
  {
   "cell_type": "markdown",
   "metadata": {},
   "source": [
    "# Import libraries"
   ]
  },
  {
   "cell_type": "code",
   "execution_count": 1,
   "metadata": {},
   "outputs": [],
   "source": [
    "import numpy as np\n",
    "import matplotlib.pyplot as plt"
   ]
  },
  {
   "cell_type": "markdown",
   "metadata": {},
   "source": [
    "# Fill Function"
   ]
  },
  {
   "cell_type": "markdown",
   "metadata": {},
   "source": [
    "baraye sakhte morab haye 32×32 az in function estefade mikardam ke (for x ) baraye por kardan dar mehvar x ha va (for y) baraye por kardane dar mehvar y ha ast"
   ]
  },
  {
   "cell_type": "code",
   "execution_count": 130,
   "metadata": {},
   "outputs": [],
   "source": [
    "\n",
    "def fill(i, j, img):\n",
    "    c = 32 * i\n",
    "    d = 32 * (i + 1)\n",
    "    e = 32 * j\n",
    "    f = 32 * (j + 1)\n",
    "    for x in range(c, d):\n",
    "        for y in range(e, f):\n",
    "            img[x, y] = 255"
   ]
  },
  {
   "cell_type": "markdown",
   "metadata": {},
   "source": [
    "# Create Image "
   ]
  },
  {
   "cell_type": "markdown",
   "metadata": {},
   "source": [
    "baraye sakhte base img man yek 2D array ra ba zero por kardm va bad az an ba estefade az yek halqeye to dar to an ra fill mikardm\n",
    "\n",
    "mn ba estefade az yek halqeye to dar to yek grid 8×8 ejad kardam\n",
    "\n",
    "sharte if (i+j)%2 == 0 baraye ejraye pattern shatranji ast "
   ]
  },
  {
   "cell_type": "code",
   "execution_count": 131,
   "metadata": {},
   "outputs": [],
   "source": [
    "img = np.zeros([256, 256])\n",
    "for i in range(8):\n",
    "    for j in range(8):\n",
    "        if (i + j) % 2 == 0:\n",
    "            fill(i, j, img)\n"
   ]
  },
  {
   "cell_type": "markdown",
   "metadata": {},
   "source": [
    "# Show Image"
   ]
  },
  {
   "cell_type": "code",
   "execution_count": 132,
   "metadata": {},
   "outputs": [
    {
     "data": {
      "image/png": "[encoded data removed]",
      "text/plain": [
       "<Figure size 640x480 with 1 Axes>"
      ]
     },
     "metadata": {},
     "output_type": "display_data"
    }
   ],
   "source": [
    "plt.imshow(img, cmap='gray')\n",
    "plt.show()"
   ]
  },
  {
   "cell_type": "code",
   "execution_count": null,
   "metadata": {},
   "outputs": [],
   "source": []
  }
 ],
 "metadata": {
  "kernelspec": {
   "display_name": "Python 3",
   "language": "python",
   "name": "python3"
  },
  "language_info": {
   "codemirror_mode": {
    "name": "ipython",
    "version": 3
   },
   "file_extension": ".py",
   "mimetype": "text/x-python",
   "name": "python",
   "nbconvert_exporter": "python",
   "pygments_lexer": "ipython3",
   "version": "3.12.2"
  }
 },
 "nbformat": 4,
 "nbformat_minor": 2
}
