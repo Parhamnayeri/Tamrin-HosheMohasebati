{
  "nbformat": 4,
  "nbformat_minor": 0,
  "metadata": {
    "colab": {
      "provenance": []
    },
    "kernelspec": {
      "name": "python3",
      "display_name": "Python 3"
    },
    "language_info": {
      "name": "python"
    }
  },
  "cells": [
    {
      "cell_type": "markdown",
      "source": [
        "# Mnist CNN\n",
        "  **Parham Nayeri**\n",
        "\n",
        "  **apadana**\n",
        "\n",
        "  **Ostad Zare**"
      ],
      "metadata": {
        "id": "gTlgJh11UAFt"
      }
    },
    {
      "cell_type": "markdown",
      "source": [
        "train model baraye solve MNIST\n",
        "  \n",
        "  _Libray haye morde niyaz_\n",
        "      \n",
        "      NumPy\n",
        "      Tensorflow ------> train va sakhte Model\n",
        "      Tensorflow_datasets ----> baraye load MNIST\n",
        "      matplotlab -----> baraye Namayesh Image  "
      ],
      "metadata": {
        "id": "GtAEkcE-UbTM"
      }
    },
    {
      "cell_type": "markdown",
      "source": [
        "# Import Libraris\n"
      ],
      "metadata": {
        "id": "924zU9xAVmZN"
      }
    },
    {
      "cell_type": "code",
      "execution_count": 22,
      "metadata": {
        "id": "JTqJTNbxQm4G"
      },
      "outputs": [],
      "source": [
        "import tensorflow as tf\n",
        "import tensorflow_datasets as tfds\n",
        "import matplotlib.pyplot as plt\n",
        "import numpy as np"
      ]
    },
    {
      "cell_type": "markdown",
      "source": [
        "# Import MNIST"
      ],
      "metadata": {
        "id": "rGm6o0T2Vob0"
      }
    },
    {
      "cell_type": "code",
      "source": [
        "(ds_train, ds_test), ds_info = tfds.load(\n",
        "    'mnist',\n",
        "    split=['train', 'test'],\n",
        "    shuffle_files=True,\n",
        "    as_supervised=True,\n",
        "    with_info=True,\n",
        ")"
      ],
      "metadata": {
        "id": "osFmT3frQvzd"
      },
      "execution_count": 23,
      "outputs": []
    },
    {
      "cell_type": "markdown",
      "source": [
        "# Normalize Function"
      ],
      "metadata": {
        "id": "xPdO9yOjWbYL"
      }
    },
    {
      "cell_type": "markdown",
      "source": [
        "ma dar in function tasavir ro az image be float tabdil karde va anhara taqsim bar 255 mikonim ta [0,1] be dast ayad"
      ],
      "metadata": {
        "id": "gGXur0nrWhqX"
      }
    },
    {
      "cell_type": "code",
      "source": [
        "def normalize_img(image, label):\n",
        "\n",
        "  return tf.cast(image, tf.float32) / 255., label\n"
      ],
      "metadata": {
        "id": "EAoI2VQ3Qx7e"
      },
      "execution_count": 24,
      "outputs": []
    },
    {
      "cell_type": "markdown",
      "source": [
        "# Normalize DataSets"
      ],
      "metadata": {
        "id": "5hALOCqdXASE"
      }
    },
    {
      "cell_type": "code",
      "source": [
        "ds_train = ds_train.map(\n",
        "    normalize_img, num_parallel_calls=tf.data.AUTOTUNE)\n",
        "ds_train = ds_train.cache()\n",
        "ds_train = ds_train.shuffle(ds_info.splits['train'].num_examples)\n",
        "ds_train = ds_train.batch(128)\n",
        "ds_train = ds_train.prefetch(tf.data.AUTOTUNE)\n",
        "\n",
        "ds_test = ds_test.map(\n",
        "    normalize_img, num_parallel_calls=tf.data.AUTOTUNE)\n",
        "ds_test = ds_test.batch(128)\n",
        "ds_test = ds_test.cache()\n",
        "ds_test = ds_test.prefetch(tf.data.AUTOTUNE)"
      ],
      "metadata": {
        "id": "aRZFAn17Q6cu"
      },
      "execution_count": 25,
      "outputs": []
    },
    {
      "cell_type": "markdown",
      "source": [
        "# Sakht Model"
      ],
      "metadata": {
        "id": "ZEr6QMXEXVPh"
      }
    },
    {
      "cell_type": "markdown",
      "source": [
        "ma baraye sakhte model az 2 hidden layer va 1 outputlayer estefade kardim\n",
        "\n",
        "***LAYER 1 : Flatten***\n",
        "\n",
        "baraye tabdil 2D array be 1D az in model layer estefade mikonim estefade az in layer dar keras be onvane layer aval baraye array 2D ejbari ast\n",
        "\n",
        "***LAYER 2-3 : ReLU***\n",
        "\n",
        "dar layer 2 va 3 mn az activation function ReLU estefade kardam baraye inke adade mannfi be 0 taqir konand . dar layer 2 az 128 unit va dar layer 3 az 50 unit estefade kardam\n",
        "\n",
        "***OUTPUT LAYER : SOFTMAX***\n",
        "\n",
        "dar laye output ma az softmax baraye mutliclass clasification estefade kardim ke be tool tedad adade yani (0 ta 9) ast"
      ],
      "metadata": {
        "id": "GSlJeiDZXZwJ"
      }
    },
    {
      "cell_type": "code",
      "source": [
        "model = tf.keras.models.Sequential([\n",
        "  tf.keras.layers.Flatten(input_shape=(28, 28)),\n",
        "  tf.keras.layers.Dense(128, activation='relu'),\n",
        "  tf.keras.layers.Dense(50,activation='relu'),\n",
        "  tf.keras.layers.Dense(10,activation='softmax')\n",
        "])\n",
        "model.compile(\n",
        "    optimizer=tf.keras.optimizers.Adam(0.001),\n",
        "    loss=tf.keras.losses.SparseCategoricalCrossentropy(from_logits=True),\n",
        "    metrics=[tf.keras.metrics.SparseCategoricalAccuracy()],\n",
        ")\n",
        "\n",
        "model.fit(\n",
        "    ds_train,\n",
        "    epochs=6,\n",
        "    validation_data=ds_test,\n",
        ")\n"
      ],
      "metadata": {
        "colab": {
          "base_uri": "https://localhost:8080/"
        },
        "id": "RzKkvOPeQ9Kr",
        "outputId": "789568ee-f38d-4acd-b850-be96d2b83678"
      },
      "execution_count": 28,
      "outputs": [
        {
          "output_type": "stream",
          "name": "stdout",
          "text": [
            "Epoch 1/6\n",
            "469/469 [==============================] - 7s 11ms/step - loss: 0.3552 - sparse_categorical_accuracy: 0.8966 - val_loss: 0.1690 - val_sparse_categorical_accuracy: 0.9490\n",
            "Epoch 2/6\n",
            "469/469 [==============================] - 3s 6ms/step - loss: 0.1421 - sparse_categorical_accuracy: 0.9587 - val_loss: 0.1196 - val_sparse_categorical_accuracy: 0.9653\n",
            "Epoch 3/6\n",
            "469/469 [==============================] - 3s 6ms/step - loss: 0.1007 - sparse_categorical_accuracy: 0.9706 - val_loss: 0.1013 - val_sparse_categorical_accuracy: 0.9695\n",
            "Epoch 4/6\n",
            "469/469 [==============================] - 5s 9ms/step - loss: 0.0755 - sparse_categorical_accuracy: 0.9773 - val_loss: 0.0930 - val_sparse_categorical_accuracy: 0.9710\n",
            "Epoch 5/6\n",
            "469/469 [==============================] - 3s 6ms/step - loss: 0.0603 - sparse_categorical_accuracy: 0.9822 - val_loss: 0.0854 - val_sparse_categorical_accuracy: 0.9736\n",
            "Epoch 6/6\n",
            "469/469 [==============================] - 3s 7ms/step - loss: 0.0489 - sparse_categorical_accuracy: 0.9854 - val_loss: 0.0887 - val_sparse_categorical_accuracy: 0.9740\n"
          ]
        },
        {
          "output_type": "execute_result",
          "data": {
            "text/plain": [
              "<keras.src.callbacks.History at 0x7c89101a26b0>"
            ]
          },
          "metadata": {},
          "execution_count": 28
        }
      ]
    },
    {
      "cell_type": "markdown",
      "source": [
        "# Test Model Va Namayesh dade ha"
      ],
      "metadata": {
        "id": "20_M24ZJZUE0"
      }
    },
    {
      "cell_type": "markdown",
      "source": [
        "dar inja az plt baraye tabdil array 2D be image estefade mikonim"
      ],
      "metadata": {
        "id": "xD38nRALZczZ"
      }
    },
    {
      "cell_type": "code",
      "source": [
        "predictions = model.predict(ds_test)\n",
        "test_images = np.concatenate([x for x, y in ds_test], axis=0)\n",
        "test_labels = np.concatenate([y for x, y in ds_test], axis=0)\n",
        "predicted_labels = np.argmax(predictions, axis=1)\n",
        "num_images_to_display = 5\n",
        "random_indices = np.random.choice(test_images.shape[0], num_images_to_display, replace=False)\n",
        "images_to_display = test_images[random_indices]\n",
        "predictions_to_display = predicted_labels[random_indices]\n",
        "labels_to_display = test_labels[random_indices]\n",
        "plt.figure(figsize=(10, 5))\n",
        "for i in range(num_images_to_display):\n",
        "    plt.subplot(1, num_images_to_display, i + 1)\n",
        "    plt.imshow(images_to_display[i], cmap='gray')\n",
        "    plt.title(f\"Pred: {predictions_to_display[i]}, True: {labels_to_display[i]}\")\n",
        "    plt.axis('off')\n",
        "plt.show()"
      ],
      "metadata": {
        "colab": {
          "base_uri": "https://localhost:8080/",
          "height": 210
        },
        "id": "2VOuuUR0Ramd",
        "outputId": "ed0e74a3-bf26-4d20-f766-023e0f14fcd4"
      },
      "execution_count": 29,
      "outputs": [
        {
          "output_type": "stream",
          "name": "stdout",
          "text": [
            "79/79 [==============================] - 0s 3ms/step\n"
          ]
        },
        {
          "output_type": "display_data",
          "data": {
            "text/plain": [
              "<Figure size 1000x500 with 5 Axes>"
            ],
            "image/png": "[encoded data removed]"
          },
          "metadata": {}
        }
      ]
    },
    {
      "cell_type": "code",
      "source": [],
      "metadata": {
        "id": "ZSmwPVKYTNAy"
      },
      "execution_count": null,
      "outputs": []
    }
  ]
}