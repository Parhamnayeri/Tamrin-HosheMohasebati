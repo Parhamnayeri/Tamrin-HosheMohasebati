{
 "cells": [
  {
   "cell_type": "markdown",
   "metadata": {},
   "source": [
    "# N Queens with Genetic algorithm"
   ]
  },
  {
   "cell_type": "markdown",
   "metadata": {},
   "source": [
    "Import Library"
   ]
  },
  {
   "cell_type": "code",
   "execution_count": 36,
   "metadata": {},
   "outputs": [],
   "source": [
    "import random"
   ]
  },
  {
   "cell_type": "markdown",
   "metadata": {},
   "source": [
    "# Create random Chromosomes "
   ]
  },
  {
   "cell_type": "code",
   "execution_count": 37,
   "metadata": {},
   "outputs": [],
   "source": [
    "def Chromosome():\n",
    "    lst = [1,2,3,4,5,6,7,8]\n",
    "    random.shuffle(lst)\n",
    "    return lst"
   ]
  },
  {
   "cell_type": "markdown",
   "metadata": {},
   "source": [
    "creat Population"
   ]
  },
  {
   "cell_type": "code",
   "execution_count": 38,
   "metadata": {},
   "outputs": [],
   "source": [
    "size = 100\n",
    "population = [Chromosome() for _ in range(size)]"
   ]
  },
  {
   "cell_type": "markdown",
   "metadata": {},
   "source": [
    "# Calculate Fitnesses"
   ]
  },
  {
   "cell_type": "code",
   "execution_count": 41,
   "metadata": {},
   "outputs": [],
   "source": [
    "def fit(x):\n",
    "    point = 10\n",
    "    for i in range(len(x)):\n",
    "        for j in range(i+1 ,len(x)):\n",
    "            l = (x[i]-x[j])/(i-j)\n",
    "            if l == 1 :\n",
    "                point -= 1\n",
    "            if l == (-1):\n",
    "                point -=1\n",
    "    return point"
   ]
  },
  {
   "cell_type": "markdown",
   "metadata": {},
   "source": [
    "select with Roulette Wheel"
   ]
  },
  {
   "cell_type": "code",
   "execution_count": 42,
   "metadata": {},
   "outputs": [],
   "source": [
    "def roulette(population,fitList):\n",
    "  totalFit = sum(fitList)\n",
    "  chance = [fitness / totalFit for fitness in fitList]\n",
    "  select = random.choices(population,weights=chance,k=2)\n",
    "  return select[0],select[1]\n"
   ]
  },
  {
   "cell_type": "markdown",
   "metadata": {},
   "source": [
    "Cross Over "
   ]
  },
  {
   "cell_type": "code",
   "execution_count": 43,
   "metadata": {},
   "outputs": [],
   "source": [
    "def offspring(p1,p2):\n",
    "  s = random.randint(0,len(p1)-1)\n",
    "  sp1 = p1[:s] + p2[s:]\n",
    "  sp2 = p2[:s] + p1[s:]\n",
    "  return checker(sp1),checker(sp2)\n",
    "def checker(sp):\n",
    "  for i in range(len(sp)):\n",
    "    while sp.count(sp[i]) > 1 :\n",
    "      sp[i] = random.randint(1,8)\n",
    "  return sp"
   ]
  },
  {
   "cell_type": "markdown",
   "metadata": {},
   "source": [
    "# Creat GA Model "
   ]
  },
  {
   "cell_type": "code",
   "execution_count": 44,
   "metadata": {},
   "outputs": [
    {
     "name": "stdout",
     "output_type": "stream",
     "text": [
      "in epoch 0 best fit = 9 and solution = [8, 2, 5, 1, 7, 4, 6, 3]\n",
      "in epoch 1 best fit = 9 and solution = [8, 2, 5, 1, 7, 4, 6, 3]\n",
      "in epoch 2 best fit = 9 and solution = [7, 5, 2, 6, 1, 3, 4, 8]\n",
      "in epoch 3 best fit = 10 and solution = [3, 6, 8, 1, 4, 7, 5, 2]\n",
      "in epoch 4 best fit = 10 and solution = [3, 6, 8, 1, 4, 7, 5, 2]\n",
      "in epoch 5 best fit = 10 and solution = [4, 2, 7, 3, 6, 8, 1, 5]\n"
     ]
    }
   ],
   "source": [
    "epoch = 10 \n",
    "best =[]\n",
    "bestFit = 0\n",
    "\n",
    "for i in range(epoch):\n",
    "    fitList = [fit(x) for x in population]\n",
    "    sortPopulation = [x for _,x in sorted(zip(fitList,population))]\n",
    "    newPopulation = []\n",
    "    while len(newPopulation) < size :\n",
    "        p1,p2 = roulette(sortPopulation,fitList)\n",
    "        c1,c2 = offspring(p1,p2)\n",
    "        newPopulation.append(c1)\n",
    "        newPopulation.append(c2)\n",
    "    population = newPopulation\n",
    "    if max(fitList) >= bestFit :\n",
    "        bestFit = max(fitList)\n",
    "        print(f'in epoch {i} best fit = {bestFit} and solution = {sortPopulation[-1]}')"
   ]
  },
  {
   "cell_type": "code",
   "execution_count": null,
   "metadata": {},
   "outputs": [],
   "source": []
  },
  {
   "cell_type": "code",
   "execution_count": null,
   "metadata": {},
   "outputs": [],
   "source": []
  }
 ],
 "metadata": {
  "kernelspec": {
   "display_name": "base",
   "language": "python",
   "name": "python3"
  },
  "language_info": {
   "codemirror_mode": {
    "name": "ipython",
    "version": 3
   },
   "file_extension": ".py",
   "mimetype": "text/x-python",
   "name": "python",
   "nbconvert_exporter": "python",
   "pygments_lexer": "ipython3",
   "version": "3.11.7"
  }
 },
 "nbformat": 4,
 "nbformat_minor": 2
}
