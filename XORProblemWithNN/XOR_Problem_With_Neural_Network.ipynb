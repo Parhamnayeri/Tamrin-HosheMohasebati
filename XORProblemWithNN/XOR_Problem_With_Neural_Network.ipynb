{
 "cells": [
  {
   "cell_type": "markdown",
   "metadata": {},
   "source": [
    "# XOR PROBLEM WITH NEURAL NETWORK\n",
    "*(PARHAM NAYERI)*\n",
    "\n",
    "*(APADANA)*\n",
    "\n",
    "*(OSTAD ZARE)*\n"
   ]
  },
  {
   "cell_type": "markdown",
   "metadata": {},
   "source": [
    "# IMPORT NUMPAY LIBRARY\n"
   ]
  },
  {
   "cell_type": "code",
   "execution_count": null,
   "metadata": {},
   "outputs": [],
   "source": [
    "# <<if u dont have numpy run this cell>>\n",
    "! pip install numpy\n",
    "#<<<<<<<<<<<<<<<<<<<<<<<>>>>>>>>>>>>>>>>>>"
   ]
  },
  {
   "cell_type": "code",
   "execution_count": 2,
   "metadata": {},
   "outputs": [],
   "source": [
    "import numpy as np"
   ]
  },
  {
   "cell_type": "markdown",
   "metadata": {},
   "source": [
    "# Meqdar Dehi Avaliye XOR"
   ]
  },
  {
   "cell_type": "code",
   "execution_count": 3,
   "metadata": {},
   "outputs": [],
   "source": [
    "x = np.array([[0,0],[0,1],[1,0],[1,1]])\n",
    "y = np.array([[0],[1],[1],[0]])\n",
    "test = np.array([[1,0],[0,1],[0,0]])\n",
    "epoch = 10000\n",
    "rate = 0.1"
   ]
  },
  {
   "attachments": {
    "12312.png": {
     "image/png": "[encoded data removed]"
    }
   },
   "cell_type": "markdown",
   "metadata": {},
   "source": [
    "# XOR MLP (Multi Layer Perceptron)\n",
    "dar XOR problem ma nemitavanim az single layer perceptron( Manade AND va OR ) estefade konim va bayad az multi layer estefade konim manande akse zir ke daraye 2 Neuron vorodi( Input Neuron ) va 2 Neuron makhfi ( hidden Neuron ) va yek khoroji (Output Neuron ) ast\n",
    "\n",
    "![12312.png](attachment:12312.png)\n"
   ]
  },
  {
   "attachments": {
    "Logic-Gates.png": {
     "image/png": "[encoded data removed]"
    }
   },
   "cell_type": "markdown",
   "metadata": {},
   "source": [
    "![Logic-Gates.png](attachment:Logic-Gates.png)\n",
    "\n",
    "hamantor ke dar tasvir bala mibinid ma nemitavanim ba yek khat XOR ra joda Sazi konim"
   ]
  },
  {
   "cell_type": "code",
   "execution_count": 4,
   "metadata": {},
   "outputs": [],
   "source": [
    "iNeu = 2 \n",
    "hNeu = 2\n",
    "oNeu = 1"
   ]
  },
  {
   "cell_type": "markdown",
   "metadata": {},
   "source": [
    "har input be har do Hidden Neuron vasl mishavad va ma 4 vorodi be hidden layer darim va 2 vorodi be output neuron va ba method *np.random.uniform()* baraye anha vazn haei besorat random misazim "
   ]
  },
  {
   "cell_type": "code",
   "execution_count": 5,
   "metadata": {},
   "outputs": [],
   "source": [
    "wHidden = np.random.uniform(size=(iNeu,hNeu)) # baraye W11,W21,W12,W22 >> [W11 W21] [W12 W22]\n",
    "wOut = np.random.uniform(size=(hNeu,oNeu)) # Baraye W13,W23 >> [W13] [W21]\n",
    "bHidden = np.random.uniform(size=(1,hNeu)) # bias vorodi be Hidden Layer [b1 b2]\n",
    "bOut = np.random.uniform(size=(1,oNeu)) # bias vorodi be Output Layer [b3]"
   ]
  },
  {
   "cell_type": "markdown",
   "metadata": {},
   "source": [
    "# SIGMOID Functions "
   ]
  },
  {
   "attachments": {
    "14.png": {
     "image/png": "[encoded data removed]"
    }
   },
   "cell_type": "markdown",
   "metadata": {},
   "source": [
    "Sigmoid : Yek model bazeye 0 - 1 ast ke be tadrij az 0 be 1 miravad \n",
    "\n",
    "\n",
    "![14.png](attachment:14.png)\n",
    "\n",
    "\n",
    "exp(-z) dar formul be in manast ke adade (e)^(adade vorodi)\n",
    "in function mizan vorodi ra mahdod be bazeye 0 o 1 mikonad"
   ]
  },
  {
   "cell_type": "code",
   "execution_count": 6,
   "metadata": {},
   "outputs": [],
   "source": [
    "def sigmoid(x):\n",
    "    return 1 / (1 + np.exp(-x))\n",
    "\n",
    "def sigmoid_Moshtaq(x):\n",
    "    return sigmoid(x) * (1 - x)\n",
    "# Ma az Moshtaq Sigmoid baraye hesab kardan Gradient Descent niyaz darim "
   ]
  },
  {
   "cell_type": "markdown",
   "metadata": {},
   "source": [
    "# Training Algorithms Function"
   ]
  },
  {
   "cell_type": "markdown",
   "metadata": {},
   "source": [
    "Ma az ye for loop 3 marhalei estefade mikonim baraye train kardan model\n",
    "\n",
    "step 1 : Hesabe avaliye\n",
    "    np.dot() baraye zarb matrixi array ha dar ham estefade shode\n",
    "\n",
    "    sigmoid() baraye mahdod kardan khoroji ha beyne 0 o 1 estefade mikonim\n",
    "\n",
    "step 2 :  mohasebeye ERROR\n",
    "\n",
    "step 3 : Update kardane Weight va Bias "
   ]
  },
  {
   "cell_type": "code",
   "execution_count": 7,
   "metadata": {},
   "outputs": [
    {
     "name": "stdout",
     "output_type": "stream",
     "text": [
      "Final Weight Hiddens: [[ 8.54796906 -4.22738281]\n",
      " [12.07301416  7.91700727]] , Bias Hiddens: [[-7.19388977  0.91699787]] ,Final Weight Out:[[ 5.96683332]\n",
      " [-3.8703424 ]],Bias Out:[[-2.05735076]]\n"
     ]
    }
   ],
   "source": [
    "for _ in range(epoch):\n",
    "    #Step 1\n",
    "    hidden = sigmoid(np.dot(x, wHidden) + bHidden) \n",
    "    output = sigmoid(np.dot(hidden, wOut) + bOut)\n",
    "    #step 2\n",
    "    errorOut = y - output\n",
    "    d_prediction = errorOut * sigmoid_Moshtaq(output)\n",
    "    errorHidden = d_prediction.dot(wOut.T)\n",
    "    d_hidden = errorHidden * sigmoid_Moshtaq(hidden)\n",
    "    #step 3\n",
    "    wOut += hidden.T.dot(d_prediction) * rate\n",
    "    wHidden += x.T.dot(d_hidden) * rate\n",
    "    bHidden += np.sum(d_hidden, axis=0, keepdims=True) * rate\n",
    "    bOut += np.sum(d_prediction, axis=0, keepdims=True) * rate\n",
    "    \n",
    "print(f\"Final Weight Hiddens: {wHidden} , Bias Hiddens: {bHidden} ,Final Weight Out:{wOut},Bias Out:{bOut}\")"
   ]
  },
  {
   "cell_type": "markdown",
   "metadata": {},
   "source": [
    "# PRINT TEST RESULTS"
   ]
  },
  {
   "cell_type": "code",
   "execution_count": 8,
   "metadata": {},
   "outputs": [],
   "source": [
    "def Per(test, wOut, wHidden, bOut, bHidden):\n",
    "    hidden = sigmoid(np.dot(test, wHidden) + bHidden)\n",
    "    output = sigmoid(np.dot(hidden, wOut) + bOut)\n",
    "    per = [0] * len(test)\n",
    "    c = 0 \n",
    "    for i in output:\n",
    "        if np.round(i) > 0 :\n",
    "            per[c] = 1\n",
    "        else :\n",
    "            per[c] = 0\n",
    "        c +=1 \n",
    "    return per        "
   ]
  },
  {
   "cell_type": "code",
   "execution_count": 9,
   "metadata": {},
   "outputs": [
    {
     "name": "stdout",
     "output_type": "stream",
     "text": [
      "[(array([1, 0]), 1), (array([0, 1]), 0), (array([0, 0]), 0)]\n"
     ]
    }
   ],
   "source": [
    "f = [(x,y) for x,y in zip(test,Per(test, wOut, wHidden, bOut, bHidden))]\n",
    "print(f)"
   ]
  }
 ],
 "metadata": {
  "kernelspec": {
   "display_name": "Python 3",
   "language": "python",
   "name": "python3"
  },
  "language_info": {
   "codemirror_mode": {
    "name": "ipython",
    "version": 3
   },
   "file_extension": ".py",
   "mimetype": "text/x-python",
   "name": "python",
   "nbconvert_exporter": "python",
   "pygments_lexer": "ipython3",
   "version": "3.10.0"
  }
 },
 "nbformat": 4,
 "nbformat_minor": 2
}
